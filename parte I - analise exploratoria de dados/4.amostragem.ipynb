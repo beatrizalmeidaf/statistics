{
 "cells": [
  {
   "cell_type": "markdown",
   "metadata": {},
   "source": [
    "# Amostragem\n",
    "\n",
    "Maneira de coletar informações sobre um grande grupo de pessoas ou coisas, chamado de população, escolhendo uma parte menor desse grupo, que chamamos de amostra"
   ]
  },
  {
   "cell_type": "markdown",
   "metadata": {},
   "source": [
    "## Amostragem Aleatória\n",
    "\n",
    "Um processo no qual cada membro disponível da\n",
    "população sendo amostrada tem chances iguais de ser escolhido para a amostra em cada extração"
   ]
  },
  {
   "cell_type": "code",
   "execution_count": 1,
   "metadata": {},
   "outputs": [],
   "source": [
    "import numpy as np\n",
    "import pandas as pd"
   ]
  },
  {
   "cell_type": "code",
   "execution_count": 2,
   "metadata": {},
   "outputs": [
    {
     "name": "stdout",
     "output_type": "stream",
     "text": [
      "    ID  Valor\n",
      "83  84     62\n",
      "53  54     14\n",
      "70  71      4\n",
      "45  46      7\n",
      "44  45     51\n",
      "39  40     62\n",
      "22  23     21\n",
      "80  81     44\n",
      "10  11     88\n",
      "0    1     52\n"
     ]
    }
   ],
   "source": [
    "np.random.seed(42)\n",
    "\n",
    "dados = pd.DataFrame({'ID': range(1,101), 'Valor': np.random.randint(1, 100, 100)})\n",
    "\n",
    "amostragem_aleatoria = dados.sample(n=10, random_state=42)\n",
    "\n",
    "print(amostragem_aleatoria)"
   ]
  },
  {
   "cell_type": "markdown",
   "metadata": {},
   "source": [
    "## Amostragem Sistemática\n",
    "\n",
    "Seleciona elementos em intervalos fixos após um primeiro ponto escolhido aleatoriamente"
   ]
  },
  {
   "attachments": {
    "image-2.png": {
     "image/png": "[encoded data removed]"
    },
    "image.png": {
     "image/png": "[encoded data removed]"
    }
   },
   "cell_type": "markdown",
   "metadata": {},
   "source": [
    "![image-2.png](attachment:image-2.png)"
   ]
  },
  {
   "cell_type": "code",
   "execution_count": 3,
   "metadata": {},
   "outputs": [
    {
     "name": "stdout",
     "output_type": "stream",
     "text": [
      "    ID  Valor\n",
      "6    7     83\n",
      "16  17     88\n",
      "26  27     22\n",
      "36  37     62\n",
      "46  47     21\n",
      "56  57     53\n",
      "66  67     78\n",
      "76  77     93\n",
      "86  87     48\n",
      "96  97     53\n"
     ]
    }
   ],
   "source": [
    "total_elementos = len(dados)\n",
    "n = 10 # tamanho amostra\n",
    "k = total_elementos / n # intervalo sistemático\n",
    "\n",
    "np.random.seed(42)\n",
    "\n",
    "comeco = np.random.randint(0, k)\n",
    "\n",
    "indices_escolhidos = np.arange(comeco, total_elementos, k)\n",
    "\n",
    "amostragem_sistematica = dados.iloc[indices_escolhidos]\n",
    "\n",
    "print(amostragem_sistematica)"
   ]
  },
  {
   "cell_type": "markdown",
   "metadata": {},
   "source": [
    "## Amostragem Aleatória Estratificada\n",
    "\n",
    "Divide a população em grupos (estratos) homogêneos e sorteia elementos proporcionalmente dentro de cada estrato"
   ]
  },
  {
   "cell_type": "code",
   "execution_count": 4,
   "metadata": {},
   "outputs": [
    {
     "name": "stdout",
     "output_type": "stream",
     "text": [
      "    ID  Valor Grupo\n",
      "65  66     35     B\n",
      "50  51      4     A\n",
      "84  85     14     B\n",
      "75  76     54     B\n",
      "54  55      9     C\n",
      "63  64      8     B\n",
      "5    6     21     C\n",
      "96  97     53     C\n",
      "97  98     24     A\n",
      "90  91     87     A\n"
     ]
    }
   ],
   "source": [
    "from sklearn.model_selection import train_test_split\n",
    "\n",
    "dados['Grupo'] = np.random.choice(['A', 'B', 'C'], size=total_elementos)\n",
    "\n",
    "amostragem_estratificada, _ = train_test_split(dados, test_size=0.9, stratify=dados['Grupo'], random_state=42)\n",
    "\n",
    "print(amostragem_estratificada)"
   ]
  },
  {
   "cell_type": "code",
   "execution_count": 7,
   "metadata": {},
   "outputs": [
    {
     "data": {
      "text/plain": [
       "Grupo\n",
       "B    4\n",
       "A    3\n",
       "C    3\n",
       "Name: count, dtype: int64"
      ]
     },
     "execution_count": 7,
     "metadata": {},
     "output_type": "execute_result"
    }
   ],
   "source": [
    "amostragem_estratificada['Grupo'].value_counts()"
   ]
  }
 ],
 "metadata": {
  "kernelspec": {
   "display_name": "estatistica",
   "language": "python",
   "name": "python3"
  },
  "language_info": {
   "codemirror_mode": {
    "name": "ipython",
    "version": 3
   },
   "file_extension": ".py",
   "mimetype": "text/x-python",
   "name": "python",
   "nbconvert_exporter": "python",
   "pygments_lexer": "ipython3",
   "version": "3.13.1"
  }
 },
 "nbformat": 4,
 "nbformat_minor": 2
}
