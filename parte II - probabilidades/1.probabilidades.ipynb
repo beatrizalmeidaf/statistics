{
 "cells": [
  {
   "cell_type": "markdown",
   "metadata": {},
   "source": [
    "# Probabilidade"
   ]
  },
  {
   "cell_type": "markdown",
   "metadata": {},
   "source": [
    "# Probabilidade\n",
    "\n",
    "## Introdução\n",
    "\n",
    "A probabilidade é uma das ferramentas mais fundamentais da estatística. Ela fornece um arcabouço teórico para lidarmos com a incerteza, seja em fenômenos naturais, sociais ou em processos industriais. Neste capítulo, estudaremos conceitos centrais de probabilidade, suas propriedades e algumas aplicações práticas.\n",
    "\n",
    "## Objetivos\n",
    "\n",
    "1. Compreender os conceitos básicos de probabilidade.\n",
    "2. Aprender a calcular probabilidades em diferentes cenários.\n",
    "3. Explorar a aplicação de distribuições de probabilidade em problemas reais.\n",
    "\n",
    "## Conceitos Fundamentais\n",
    "\n",
    "1. **Experimento Aleatório**: É um experimento cujo resultado não pode ser previsto com certeza.\n",
    "2. **Espaço Amostral ($S$)**: Conjunto de todos os resultados possíveis de um experimento aleatório.\n",
    "3. **Evento**: Subconjunto do espaço amostral.\n",
    "4. **Probabilidade de um Evento ($P(A)$)**: Medida da chance de ocorrência de um evento $A$, variando de 0 (impossível) a 1 (certo).\n",
    "\n",
    "### Axiomas da Probabilidade (Kolmogorov)\n",
    "\n",
    "1. $P(A) \\geq 0$, para todo evento $A$.\n",
    "2. $P(S) = 1$, onde $S$ é o espaço amostral.\n",
    "3. Para eventos mutuamente exclusivos $A_1, A_2, \\ldots$, temos:\n",
    "   \\[\n",
    "   $P(A_1 \\cup A_2 \\cup \\ldots) = \\sum P(A_i)$.\n",
    "   \\]"
   ]
  },
  {
   "cell_type": "markdown",
   "metadata": {},
   "source": [
    "## Problema Proposto\n",
    "\n",
    "**Cenário:**\n",
    "Um baralho padrão contém 52 cartas, das quais:\n",
    "- 13 são do naipe de copas.\n",
    "- 13 do naipe de espadas.\n",
    "- 13 do naipe de ouros.\n",
    "- 13 do naipe de paus.\n",
    "\n",
    "Deseja-se calcular:\n",
    "1. A probabilidade de se retirar uma carta do naipe de copas.\n",
    "2. A probabilidade de se retirar uma carta de figura (rei, dama ou valete).\n",
    "3. A probabilidade de se retirar uma carta de figura do naipe de copas.\n"
   ]
  },
  {
   "cell_type": "code",
   "execution_count": 1,
   "metadata": {},
   "outputs": [],
   "source": [
    "total_cartas = 52\n",
    "cartas_copas = 13\n",
    "cartas_figura = 3 * 4  # 3 figuras (rei, dama, valete) em cada naipe\n",
    "cartas_figura_copas = 3"
   ]
  },
  {
   "cell_type": "code",
   "execution_count": 2,
   "metadata": {},
   "outputs": [
    {
     "name": "stdout",
     "output_type": "stream",
     "text": [
      "Probabilidade de retirar uma carta de copas: 0.25\n",
      "Probabilidade de retirar uma carta de figura: 0.23\n",
      "Probabilidade de retirar uma carta de figura de copas: 0.06\n"
     ]
    }
   ],
   "source": [
    "prob_copas = cartas_copas / total_cartas\n",
    "prob_figura = cartas_figura / total_cartas\n",
    "prob_figura_copas = cartas_figura_copas / total_cartas\n",
    "\n",
    "\n",
    "print(f\"Probabilidade de retirar uma carta de copas: {prob_copas:.2f}\")\n",
    "print(f\"Probabilidade de retirar uma carta de figura: {prob_figura:.2f}\")\n",
    "print(f\"Probabilidade de retirar uma carta de figura de copas: {prob_figura_copas:.2f}\")"
   ]
  }
 ],
 "metadata": {
  "kernelspec": {
   "display_name": "Python 3",
   "language": "python",
   "name": "python3"
  },
  "language_info": {
   "codemirror_mode": {
    "name": "ipython",
    "version": 3
   },
   "file_extension": ".py",
   "mimetype": "text/x-python",
   "name": "python",
   "nbconvert_exporter": "python",
   "pygments_lexer": "ipython3",
   "version": "3.13.1"
  }
 },
 "nbformat": 4,
 "nbformat_minor": 2
}
