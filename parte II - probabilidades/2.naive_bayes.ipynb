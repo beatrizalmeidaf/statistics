{
 "cells": [
  {
   "cell_type": "markdown",
   "metadata": {},
   "source": [
    "# Naive Bayes\n",
    "\n",
    "## Introdução\n",
    "\n",
    "Naive Bayes é uma abordagem estatística baseada no Teorema de Bayes, amplamente utilizada para problemas de classificação. \n",
    "\n",
    "## O Teorema de Bayes\n",
    "\n",
    "O Teorema de Bayes descreve a probabilidade de um evento \\( A \\) dado que outro evento \\( B \\) ocorreu:\n",
    "\n",
    "\n",
    "$P(A|B) = \\frac{P(B|A)P(A)}{P(B)}$\n",
    "\n",
    "\n",
    "- \\( P(A|B) \\): Probabilidade posterior, ou seja, probabilidade de \\( A \\) dado \\( B \\).\n",
    "- \\( P(B|A) \\): Probabilidade condicional de \\( B \\) dado \\( A \\).\n",
    "- \\( P(A) \\): Probabilidade a priori de \\( A \\).\n",
    "- \\( P(B) \\): Probabilidade marginal de \\( B \\).\n",
    "\n",
    "## O Algoritmo Naive Bayes\n",
    "\n",
    "O \"Naive\" do nome refere-se à suposição de independência entre as variáveis preditoras (ou seja, os atributos do modelo). O Naive Bayes assume que a presença de uma característica em uma classe é independente da presença de outras características.\n",
    "\n",
    "## Tipos de Naive Bayes\n",
    "\n",
    "1. **Gaussian Naive Bayes**: Assume que os dados seguem uma distribuição normal.\n",
    "2. **Multinomial Naive Bayes**: Ideal para dados de contagem (e.g., frequência de palavras em textos).\n",
    "3. **Bernoulli Naive Bayes**: Usado quando os atributos são binários (e.g., presença ou ausência de palavras).\n"
   ]
  },
  {
   "cell_type": "markdown",
   "metadata": {},
   "source": [
    "## Problema Proposto\n",
    "\n",
    "**Cenário:**  \n",
    "Um spam detector utiliza Naive Bayes para classificar emails como \"spam\" ou \"não spam\". Suponha que você tem um conjunto de dados com palavras frequentes nos emails e deseja implementar uma versão simplificada do modelo.\n",
    "\n",
    "### Dataset Simulado\n",
    "\n",
    "| Email | \"Oferta\" | \"Urgente\" | \"Promoção\" | Classe    |\n",
    "|-------|----------|-----------|------------|-----------|\n",
    "| 1     | 1        | 1         | 0          | Spam      |\n",
    "| 2     | 0        | 1         | 1          | Spam      |\n",
    "| 3     | 1        | 0         | 0          | Não Spam  |\n",
    "| 4     | 0        | 0         | 1          | Não Spam  |\n",
    "\n",
    "Use o Naive Bayes para prever a classe de um email com as palavras \"Oferta\" e \"Urgente\" presentes."
   ]
  },
  {
   "cell_type": "code",
   "execution_count": 1,
   "metadata": {},
   "outputs": [],
   "source": [
    "emails = [\n",
    "    {\"Oferta\": 1, \"Urgente\": 1, \"Promoção\": 0, \"Classe\": \"Spam\"},\n",
    "    {\"Oferta\": 0, \"Urgente\": 1, \"Promoção\": 1, \"Classe\": \"Spam\"},\n",
    "    {\"Oferta\": 1, \"Urgente\": 0, \"Promoção\": 0, \"Classe\": \"Não Spam\"},\n",
    "    {\"Oferta\": 0, \"Urgente\": 0, \"Promoção\": 1, \"Classe\": \"Não Spam\"},\n",
    "]"
   ]
  },
  {
   "cell_type": "code",
   "execution_count": 4,
   "metadata": {},
   "outputs": [],
   "source": [
    "def contar_classes(emails):\n",
    "    contagem = {\"Spam\": 0, \"Não Spam\": 0}\n",
    "    for email in emails:\n",
    "        contagem[email[\"Classe\"]] += 1\n",
    "    return contagem"
   ]
  },
  {
   "cell_type": "code",
   "execution_count": 5,
   "metadata": {},
   "outputs": [],
   "source": [
    "def contar_palavras(emails, classes):\n",
    "    contagem_palavras = {classe: {\"Oferta\": 0, \"Urgente\": 0, \"Promoção\": 0} for classe in classes}\n",
    "    for email in emails:\n",
    "        classe = email[\"Classe\"]\n",
    "        for palavra in [\"Oferta\", \"Urgente\", \"Promoção\"]:\n",
    "            if email[palavra] == 1:  # se a palavra tá presente no email\n",
    "                contagem_palavras[classe][palavra] += 1\n",
    "    return contagem_palavras"
   ]
  },
  {
   "cell_type": "code",
   "execution_count": 6,
   "metadata": {},
   "outputs": [],
   "source": [
    "def calcular_probabilidades(total_emails, contagem_classes, contagem_palavras):\n",
    "    probabilidades = {\"Classe\": {}, \"Palavras\": {}}\n",
    "\n",
    "    # probabilidade de cada classe (Spam ou Não Spam)\n",
    "    for classe in contagem_classes:\n",
    "        probabilidades[\"Classe\"][classe] = contagem_classes[classe] / total_emails\n",
    "\n",
    "    # probabilidade de cada palavra dentro de cada classe\n",
    "    probabilidades[\"Palavras\"] = contagem_palavras\n",
    "    for classe in contagem_palavras:\n",
    "        for palavra in contagem_palavras[classe]:\n",
    "            # divide o número de vezes que a palavra aparece pelo total de emails da classe\n",
    "            probabilidades[\"Palavras\"][classe][palavra] /= contagem_classes[classe]\n",
    "\n",
    "    return probabilidades"
   ]
  },
  {
   "cell_type": "code",
   "execution_count": 7,
   "metadata": {},
   "outputs": [],
   "source": [
    "def prever_email(email, probabilidades):\n",
    "    resultados = {\"Spam\": probabilidades[\"Classe\"][\"Spam\"], \"Não Spam\": probabilidades[\"Classe\"][\"Não Spam\"]}\n",
    "\n",
    "    for palavra in email:\n",
    "        if email[palavra] == 1:  # só considera palavras que estão no email\n",
    "            resultados[\"Spam\"] *= probabilidades[\"Palavras\"][\"Spam\"][palavra]\n",
    "            resultados[\"Não Spam\"] *= probabilidades[\"Palavras\"][\"Não Spam\"][palavra]\n",
    "\n",
    "    # retorna a classe com maior probabilidade\n",
    "    return max(resultados, key=resultados.get)"
   ]
  },
  {
   "cell_type": "code",
   "execution_count": 9,
   "metadata": {},
   "outputs": [
    {
     "name": "stdout",
     "output_type": "stream",
     "text": [
      "O novo email foi classificado como: Spam\n"
     ]
    }
   ],
   "source": [
    "contagem_classes = contar_classes(emails)\n",
    "contagem_palavras = contar_palavras(emails, contagem_classes.keys())\n",
    "probabilidades = calcular_probabilidades(len(emails), contagem_classes, contagem_palavras)\n",
    "\n",
    "\n",
    "novo_email = {\"Oferta\": 1, \"Urgente\": 1, \"Promoção\": 0}\n",
    "classe_predita = prever_email(novo_email, probabilidades)\n",
    "\n",
    "\n",
    "print(f\"O novo email foi classificado como: {classe_predita}\")"
   ]
  }
 ],
 "metadata": {
  "kernelspec": {
   "display_name": "Python 3",
   "language": "python",
   "name": "python3"
  },
  "language_info": {
   "codemirror_mode": {
    "name": "ipython",
    "version": 3
   },
   "file_extension": ".py",
   "mimetype": "text/x-python",
   "name": "python",
   "nbconvert_exporter": "python",
   "pygments_lexer": "ipython3",
   "version": "3.13.1"
  }
 },
 "nbformat": 4,
 "nbformat_minor": 2
}
