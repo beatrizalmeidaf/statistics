{
 "cells": [
  {
   "cell_type": "markdown",
   "metadata": {},
   "source": [
    "# Teste de hipóteses\n",
    "\n",
    "É uma técnica estatística usada para verificar se uma afirmação sobre uma população é verdadeira com base em dados amostrais."
   ]
  },
  {
   "cell_type": "markdown",
   "metadata": {},
   "source": [
    "Passos de um teste de hipóteses:\n",
    "\n",
    "- Definir as hipóteses:\n",
    "    𝐻0: Hipótese nula (afirmação inicial que queremos testar, geralmente é de igualdade)\n",
    "    𝐻1: Hipótese alternativa (o que queremos provar, geralmente representa diferença ou desigualdade)\n",
    "\n",
    "- Escolher o nível de significância (𝛼): Normalmente, 𝛼=0.05 (ou seja, 5% de chance de rejeitar 𝐻0 quando ela é verdadeira)\n",
    "\n",
    "- Calcular o valor-p: O valor-p é a probabilidade de observar os dados assumindo que 𝐻0 é verdadeira\n",
    "  \n",
    "- Tomar a decisão: Se valor-p ≤ 𝛼 rejeitamos 𝐻0. Caso contrário, não rejeitamos 𝐻0"
   ]
  },
  {
   "cell_type": "markdown",
   "metadata": {},
   "source": [
    "#### Exemplo: Imagine que queremos testar se a média de uma população é 10 com base em uma amostra\n",
    "\n"
   ]
  },
  {
   "cell_type": "code",
   "execution_count": 1,
   "metadata": {},
   "outputs": [],
   "source": [
    "from scipy.stats import t\n",
    "import numpy as np"
   ]
  },
  {
   "cell_type": "code",
   "execution_count": 2,
   "metadata": {},
   "outputs": [],
   "source": [
    "dados = [9.5, 10.1, 9.8, 10.4, 10.0, 9.7]\n",
    "\n",
    "n = len(dados)  \n",
    "media_amostral = np.mean(dados)  \n",
    "desvio_padrao_amostral = np.std(dados, ddof=1)"
   ]
  },
  {
   "cell_type": "code",
   "execution_count": 3,
   "metadata": {},
   "outputs": [],
   "source": [
    "mu_0 = 10  # média populacional hipotética (H0)\n",
    "\n",
    "# estatística t\n",
    "erro_padrao = desvio_padrao_amostral / np.sqrt(n)\n",
    "t_stat = (media_amostral - mu_0) / erro_padrao"
   ]
  },
  {
   "cell_type": "code",
   "execution_count": 4,
   "metadata": {},
   "outputs": [],
   "source": [
    "valor_p = 2 * (1 - t.cdf(abs(t_stat), df=n-1))\n",
    "\n",
    "alpha = 0.05"
   ]
  },
  {
   "cell_type": "code",
   "execution_count": 6,
   "metadata": {},
   "outputs": [
    {
     "name": "stdout",
     "output_type": "stream",
     "text": [
      "Média amostral: 9.916666666666666\n",
      "Valor-p: 0.5502\n",
      "Não rejeitamos a hipótese nula (H0).\n"
     ]
    }
   ],
   "source": [
    "print(f\"Média amostral: {media_amostral}\")\n",
    "print(f\"Valor-p: {valor_p:.4f}\")\n",
    "\n",
    "if valor_p < alpha:\n",
    "    print(\"Rejeitamos a hipótese nula (H0).\")\n",
    "else:\n",
    "    print(\"Não rejeitamos a hipótese nula (H0).\")"
   ]
  }
 ],
 "metadata": {
  "kernelspec": {
   "display_name": "estatistica",
   "language": "python",
   "name": "python3"
  },
  "language_info": {
   "codemirror_mode": {
    "name": "ipython",
    "version": 3
   },
   "file_extension": ".py",
   "mimetype": "text/x-python",
   "name": "python",
   "nbconvert_exporter": "python",
   "pygments_lexer": "ipython3",
   "version": "3.13.1"
  }
 },
 "nbformat": 4,
 "nbformat_minor": 2
}
