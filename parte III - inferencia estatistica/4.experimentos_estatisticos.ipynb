{
 "cells": [
  {
   "cell_type": "markdown",
   "metadata": {},
   "source": [
    "# Experimentos Estatísticos e Teste de Significância\n",
    "\n",
    "O projeto de experimentos é um dos pilares da prática estatística, com aplicações em praticamente todas as áreas de pesquisa. O objetivo é projetar um experimento a fim de confirmar ou rejeitar uma hipótese"
   ]
  },
  {
   "cell_type": "markdown",
   "metadata": {},
   "source": [
    "## 1. Testagem A/B\n",
    "\n",
    "A testagem A/B é um método estatístico usado para comparar duas versões de algo (site, produto, estratégia de marketing) e verificar qual delas tem melhor desempenho\n",
    "\n",
    "### Exemplo prático:\n",
    "\n",
    "Imagine que você quer testar duas versões de um site (A e B) para ver qual gera mais conversões"
   ]
  },
  {
   "cell_type": "code",
   "execution_count": 4,
   "metadata": {},
   "outputs": [],
   "source": [
    "import numpy as np \n",
    "import scipy.stats as stats\n",
    "from statsmodels.stats.proportion import proportions_ztest"
   ]
  },
  {
   "cell_type": "code",
   "execution_count": 6,
   "metadata": {},
   "outputs": [],
   "source": [
    "n_A, p_A = 1000, 0.12  # grupo A: 1000 usuários, 12% taxa de conversão\n",
    "n_B, p_B = 1000, 0.14  # grupo B: 1000 usuários, 14% taxa de conversão\n",
    "\n",
    "# simulação das conversões reais observadas\n",
    "conversoes_A = np.random.binomial(n_A, p_A)\n",
    "conversoes_B = np.random.binomial(n_B, p_B)"
   ]
  },
  {
   "cell_type": "code",
   "execution_count": 7,
   "metadata": {},
   "outputs": [],
   "source": [
    "taxa_A = conversoes_A / n_A\n",
    "taxa_B = conversoes_B / n_B\n",
    "\n",
    "contagens = np.array([conversoes_A, conversoes_B])\n",
    "tamanhos = np.array([n_A, n_B])\n",
    "\n",
    "estatistica, p_valor = proportions_ztest(contagens, tamanhos)"
   ]
  },
  {
   "cell_type": "code",
   "execution_count": 8,
   "metadata": {},
   "outputs": [
    {
     "name": "stdout",
     "output_type": "stream",
     "text": [
      "Taxa de conversão A: 10.90%\n",
      "Taxa de conversão B: 13.60%\n",
      "P-valor: 0.0656\n",
      "Não há evidências estatísticas para dizer que a versão B é melhor.\n"
     ]
    }
   ],
   "source": [
    "print(f\"Taxa de conversão A: {taxa_A:.2%}\")\n",
    "print(f\"Taxa de conversão B: {taxa_B:.2%}\")\n",
    "print(f\"P-valor: {p_valor:.4f}\")\n",
    "\n",
    "if p_valor < 0.05:\n",
    "    print(\"Rejeitamos a hipótese nula: A versão B tem um impacto estatisticamente significativo.\")\n",
    "else:\n",
    "    print(\"Não há evidências estatísticas para dizer que a versão B é melhor.\")"
   ]
  },
  {
   "cell_type": "markdown",
   "metadata": {},
   "source": [
    "## 2. Testes de Hipótese\n",
    "\n",
    "Um teste de hipótese avalia se uma afirmação sobre um conjunto de dados é verdadeira ou não\n",
    "\n",
    "### Exemplo prático: \n",
    "\n",
    "Você quer saber se a média de altura dos alunos de uma escola é diferente de 1,70m"
   ]
  },
  {
   "cell_type": "code",
   "execution_count": 10,
   "metadata": {},
   "outputs": [
    {
     "name": "stdout",
     "output_type": "stream",
     "text": [
      "Estatística t: 3.5402232460811884, P-valor: 0.0013712642302733755\n",
      "\n",
      "Rejeitamos a hipótese nula: A média é significativamente diferente de 1,70m.\n"
     ]
    }
   ],
   "source": [
    "alturas = np.random.normal(1.72, 0.05, size=30)\n",
    "\n",
    "t_stat, p_valor = stats.ttest_1samp(alturas, 1.70)\n",
    "\n",
    "print(f\"Estatística t: {t_stat}, P-valor: {p_valor}\\n\")\n",
    "\n",
    "if p_valor < 0.05:\n",
    "    print(\"Rejeitamos a hipótese nula: A média é significativamente diferente de 1,70m.\")\n",
    "else:\n",
    "    print(\"Não há evidências suficientes para rejeitar a hipótese nula.\")"
   ]
  },
  {
   "cell_type": "markdown",
   "metadata": {},
   "source": [
    "## 3. Reamostragem\n",
    "\n",
    "A reamostragem é uma técnica usada para criar novas amostras a partir de uma amostra original. Isso é útil quando não temos acesso à população inteira"
   ]
  },
  {
   "cell_type": "code",
   "execution_count": 11,
   "metadata": {},
   "outputs": [
    {
     "name": "stdout",
     "output_type": "stream",
     "text": [
      "Média original: 1.733\n",
      "Média da reamostragem: 1.739\n"
     ]
    }
   ],
   "source": [
    "from sklearn.utils import resample\n",
    "\n",
    "bootstrap_sample = resample(alturas, replace=True, n_samples=30, random_state=42)\n",
    "\n",
    "print(f\"Média original: {np.mean(alturas):.3f}\")\n",
    "print(f\"Média da reamostragem: {np.mean(bootstrap_sample):.3f}\")"
   ]
  },
  {
   "cell_type": "markdown",
   "metadata": {},
   "source": [
    "## 4. ANOVA (Análise de Variância)\n",
    "\n",
    "ANOVA é usada para comparar médias de três ou mais grupos. Quanto maior a estatistica F, mais provável que haja uma diferença real entre os grupos."
   ]
  },
  {
   "cell_type": "code",
   "execution_count": 12,
   "metadata": {},
   "outputs": [
    {
     "name": "stdout",
     "output_type": "stream",
     "text": [
      "ANOVA: Estatística F=8.377961329316134, P-valor=0.0004704640903561234\n"
     ]
    }
   ],
   "source": [
    "grupo_A = np.random.normal(50, 10, 30)\n",
    "grupo_B = np.random.normal(55, 10, 30)\n",
    "grupo_C = np.random.normal(60, 10, 30)\n",
    "\n",
    "f_stat, p_valor = stats.f_oneway(grupo_A, grupo_B, grupo_C)\n",
    "print(f\"ANOVA: Estatística F={f_stat}, P-valor={p_valor}\")"
   ]
  },
  {
   "cell_type": "markdown",
   "metadata": {},
   "source": [
    "## 5. Teste de Qui-Quadrado\n",
    "\n",
    "O teste de Qui-Quadrado avalia se há associação entre variáveis categóricas"
   ]
  },
  {
   "cell_type": "code",
   "execution_count": 13,
   "metadata": {},
   "outputs": [
    {
     "name": "stdout",
     "output_type": "stream",
     "text": [
      "Estatística Qui-Quadrado: 15.0417\n",
      "P-valor: 0.0001\n",
      "Graus de liberdade: 1\n",
      "Frequências esperadas:\n",
      "[[20. 30.]\n",
      " [20. 30.]]\n",
      "Rejeitamos a hipótese nula: Existe associação entre gênero e preferência de produto.\n"
     ]
    }
   ],
   "source": [
    "# exemplo: \n",
    "#       Produto A   Produto B\n",
    "# Homens    30        20\n",
    "# Mulheres  10        40\n",
    "\n",
    "tabela = np.array([[30, 20],  # homens\n",
    "                   [10, 40]]) # mulheres\n",
    "\n",
    "estatistica, p_valor, dof, esperados = stats.chi2_contingency(tabela)\n",
    "\n",
    "print(f\"Estatística Qui-Quadrado: {estatistica:.4f}\")\n",
    "print(f\"P-valor: {p_valor:.4f}\")\n",
    "print(f\"Graus de liberdade: {dof}\")\n",
    "print(\"Frequências esperadas:\")\n",
    "print(esperados)\n",
    "\n",
    "if p_valor < 0.05:\n",
    "    print(\"Rejeitamos a hipótese nula: Existe associação entre gênero e preferência de produto.\")\n",
    "else:\n",
    "    print(\"Não há evidências estatísticas para afirmar que gênero e preferência estão associadas.\")"
   ]
  },
  {
   "cell_type": "markdown",
   "metadata": {},
   "source": [
    "-----"
   ]
  },
  {
   "cell_type": "markdown",
   "metadata": {},
   "source": [
    "### Conclusão\n",
    "\n",
    "- Testes de hipótese ajudam a verificar se uma afirmação sobre um conjunto de dados é verdadeira.\n",
    "  \n",
    "- A/B Testing compara grupos para identificar melhorias.\n",
    "  \n",
    "- ANOVA e Testes t comparam médias de grupos.\n",
    "  \n",
    "- Reamostragem é uma técnica para avaliar significância estatística sem suposições paramétricas.\n",
    "  \n",
    "- Qui-Quadrado analisa relações entre variáveis categóricas."
   ]
  }
 ],
 "metadata": {
  "kernelspec": {
   "display_name": "estatistica",
   "language": "python",
   "name": "python3"
  },
  "language_info": {
   "codemirror_mode": {
    "name": "ipython",
    "version": 3
   },
   "file_extension": ".py",
   "mimetype": "text/x-python",
   "name": "python",
   "nbconvert_exporter": "python",
   "pygments_lexer": "ipython3",
   "version": "3.13.1"
  }
 },
 "nbformat": 4,
 "nbformat_minor": 2
}
